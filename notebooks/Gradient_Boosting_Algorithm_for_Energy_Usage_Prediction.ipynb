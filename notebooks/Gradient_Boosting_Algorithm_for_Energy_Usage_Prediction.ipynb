{
 "cells": [
  {
   "cell_type": "code",
   "execution_count": 9,
   "metadata": {
    "ExecuteTime": {
     "end_time": "2019-12-03T06:37:26.287409Z",
     "start_time": "2019-12-03T06:37:26.228732Z"
    }
   },
   "outputs": [],
   "source": [
    "# import necessary dependencies\n",
    "import numpy as np\n",
    "import pandas as pd\n",
    "from pandas.api.types import is_datetime64_any_dtype as is_datetime\n",
    "import os, warnings, math\n",
    "import gc # module for optional garbage collection\n",
    "gc.enable() #Enable automatic garbage collection.\n",
    "import time\n",
    "import random\n",
    "import holidays\n",
    "\n",
    "import lightgbm as lgb\n",
    "\n",
    "from sklearn.preprocessing import LabelEncoder\n",
    "from sklearn.model_selection import train_test_split\n",
    "from sklearn.metrics import mean_squared_error\n",
    "\n",
    "warnings.filterwarnings('ignore')\n",
    "\n",
    "import seaborn as msns; sns.set(style=\"ticks\", color_codes=True)\n",
    "import matplotlib.pyplot as plt\n",
    "plt.style.use('seaborn')\n",
    "%matplotlib inline\n",
    "\n",
    "import matplotlib.patches as patches\n",
    "import seaborn as sns\n",
    "from datetime import date"
   ]
  },
  {
   "cell_type": "code",
   "execution_count": 3,
   "metadata": {
    "ExecuteTime": {
     "end_time": "2019-12-03T06:33:11.208140Z",
     "start_time": "2019-12-03T06:33:11.170163Z"
    }
   },
   "outputs": [
    {
     "data": {
      "text/plain": [
       "0"
      ]
     },
     "execution_count": 3,
     "metadata": {},
     "output_type": "execute_result"
    }
   ],
   "source": [
    "# notebook project directories\n",
    "base_dir = '/home/prayush/bj/energy_predictor'\n",
    "input_dir = os.path.join(base_dir, 'input')\n",
    "checkpoint_dir = os.path.join(base_dir, 'checkpoints')\n",
    "plot_dir = os.path.join(base_dir, 'plots')\n",
    "output_dir = os.path.join(base_dir, 'output')\n",
    "os.system(\"mkdir -p {} {} {} {}\".format(base_dir, checkpoint_dir,plot_dir, output_dir))"
   ]
  },
  {
   "cell_type": "markdown",
   "metadata": {},
   "source": [
    "## Load Data"
   ]
  },
  {
   "cell_type": "code",
   "execution_count": 31,
   "metadata": {
    "ExecuteTime": {
     "end_time": "2019-12-03T06:56:06.730918Z",
     "start_time": "2019-12-03T06:55:39.135810Z"
    }
   },
   "outputs": [],
   "source": [
    "merged_train_df = pd.read_hdf(os.path.join(input_dir,\n",
    "                             \"merged_train_df_no1099_steam_no778_chilledwater_no1088_chilledwater.hdf\"))"
   ]
  },
  {
   "cell_type": "code",
   "execution_count": 22,
   "metadata": {
    "ExecuteTime": {
     "end_time": "2019-12-03T06:48:38.493991Z",
     "start_time": "2019-12-03T06:48:38.488716Z"
    }
   },
   "outputs": [
    {
     "data": {
      "text/plain": [
       "array(['building_id', 'meter', 'timestamp', 'meter_reading', 'site_id',\n",
       "       'primary_use', 'square_feet', 'year_built', 'floor_count',\n",
       "       'air_temperature', 'cloud_coverage', 'dew_temperature',\n",
       "       'precip_depth_1_hr', 'sea_level_pressure', 'wind_direction',\n",
       "       'wind_speed', 'epoch', 'primary_use_key'], dtype=object)"
      ]
     },
     "execution_count": 22,
     "metadata": {},
     "output_type": "execute_result"
    }
   ],
   "source": [
    "merged_train_df.columns.values"
   ]
  },
  {
   "cell_type": "code",
   "execution_count": 20,
   "metadata": {
    "ExecuteTime": {
     "end_time": "2019-12-03T06:46:18.464986Z",
     "start_time": "2019-12-03T06:46:18.457779Z"
    }
   },
   "outputs": [],
   "source": [
    "holidays_within_range=[str(date[0]) for date in holidays.UnitedStates(years = [2016, 2017, 2018, 2019]).items()]\n"
   ]
  },
  {
   "cell_type": "code",
   "execution_count": 21,
   "metadata": {
    "ExecuteTime": {
     "end_time": "2019-12-03T06:46:20.202378Z",
     "start_time": "2019-12-03T06:46:20.195698Z"
    }
   },
   "outputs": [
    {
     "data": {
      "text/plain": [
       "['2016-01-01',\n",
       " '2016-01-18',\n",
       " '2016-02-15',\n",
       " '2016-05-30',\n",
       " '2016-07-04',\n",
       " '2016-09-05',\n",
       " '2016-10-10',\n",
       " '2016-11-11',\n",
       " '2016-11-24',\n",
       " '2016-12-25',\n",
       " '2016-12-26',\n",
       " '2017-01-01',\n",
       " '2017-01-02',\n",
       " '2017-01-16',\n",
       " '2017-02-20',\n",
       " '2017-05-29',\n",
       " '2017-07-04',\n",
       " '2017-09-04',\n",
       " '2017-10-09',\n",
       " '2017-11-11',\n",
       " '2017-11-10',\n",
       " '2017-11-23',\n",
       " '2017-12-25',\n",
       " '2018-01-01',\n",
       " '2018-01-15',\n",
       " '2018-02-19',\n",
       " '2018-05-28',\n",
       " '2018-07-04',\n",
       " '2018-09-03',\n",
       " '2018-10-08',\n",
       " '2018-11-11',\n",
       " '2018-11-12',\n",
       " '2018-11-22',\n",
       " '2018-12-25',\n",
       " '2019-01-01',\n",
       " '2019-01-21',\n",
       " '2019-02-18',\n",
       " '2019-05-27',\n",
       " '2019-07-04',\n",
       " '2019-09-02',\n",
       " '2019-10-14',\n",
       " '2019-11-11',\n",
       " '2019-11-28',\n",
       " '2019-12-25']"
      ]
     },
     "execution_count": 21,
     "metadata": {},
     "output_type": "execute_result"
    }
   ],
   "source": [
    "holidays_within_range"
   ]
  },
  {
   "cell_type": "code",
   "execution_count": 32,
   "metadata": {
    "ExecuteTime": {
     "end_time": "2019-12-03T06:56:11.369100Z",
     "start_time": "2019-12-03T06:56:06.733663Z"
    }
   },
   "outputs": [],
   "source": [
    "\n",
    "le = LabelEncoder()\n",
    "merged_train_df.primary_use = le.fit_transform(merged_train_df.primary_use)"
   ]
  },
  {
   "cell_type": "code",
   "execution_count": 33,
   "metadata": {
    "ExecuteTime": {
     "end_time": "2019-12-03T06:56:11.385008Z",
     "start_time": "2019-12-03T06:56:11.373038Z"
    }
   },
   "outputs": [],
   "source": [
    "def prepare_data(X, test=False):\n",
    "    \"\"\"\n",
    "    Preparing final dataset with all features.\n",
    "    \"\"\"\n",
    "    \n",
    "    X.timestamp = pd.to_datetime(X.timestamp, format=\"%Y-%m-%d %H:%M:%S\")\n",
    "    \n",
    "    if not test:\n",
    "        X.sort_values(\"timestamp\", inplace=True)\n",
    "        X.reset_index(drop=True, inplace=True)\n",
    "    \n",
    "    gc.collect()\n",
    "    \n",
    "    holidays = holidays_within_range\n",
    "    \n",
    "    X[\"hour\"] = X.timestamp.dt.hour\n",
    "    X[\"weekday\"] = X.timestamp.dt.weekday\n",
    "    X[\"is_holiday\"] = (X.timestamp.dt.date.astype(\"str\").isin(holidays)).astype(int)\n",
    "    \n",
    "    drop_features = [\"timestamp\", \"sea_level_pressure\", \"wind_direction\", \"wind_speed\", 'epoch', 'primary_use_key']\n",
    "\n",
    "    X.drop(drop_features, axis=1, inplace=True)\n",
    "\n",
    "    if test:\n",
    "        row_ids = X.row_id\n",
    "        X.drop(\"row_id\", axis=1, inplace=True)\n",
    "        return X, row_ids\n",
    "    else:\n",
    "        y = np.log1p(X.meter_reading)\n",
    "        X.drop(\"meter_reading\", axis=1, inplace=True)\n",
    "        return X, y"
   ]
  },
  {
   "cell_type": "code",
   "execution_count": 34,
   "metadata": {
    "ExecuteTime": {
     "end_time": "2019-12-03T06:57:00.823799Z",
     "start_time": "2019-12-03T06:56:11.386835Z"
    }
   },
   "outputs": [
    {
     "data": {
      "text/plain": [
       "34"
      ]
     },
     "execution_count": 34,
     "metadata": {},
     "output_type": "execute_result"
    }
   ],
   "source": [
    "X_train, y_train = prepare_data(merged_train_df)\n",
    "\n",
    "gc.collect()"
   ]
  },
  {
   "cell_type": "markdown",
   "metadata": {},
   "source": [
    "### 2fold LGBM"
   ]
  },
  {
   "cell_type": "code",
   "execution_count": 35,
   "metadata": {
    "ExecuteTime": {
     "end_time": "2019-12-03T07:05:04.990361Z",
     "start_time": "2019-12-03T06:57:00.825882Z"
    }
   },
   "outputs": [
    {
     "name": "stdout",
     "output_type": "stream",
     "text": [
      "Building model with first half and validating on second half:\n",
      "Training until validation scores don't improve for 200 rounds\n",
      "[200]\ttraining's rmse: 0.916244\tvalid_1's rmse: 1.32789\n",
      "[400]\ttraining's rmse: 0.863554\tvalid_1's rmse: 1.32656\n",
      "Early stopping, best iteration is:\n",
      "[263]\ttraining's rmse: 0.892302\tvalid_1's rmse: 1.32458\n",
      "Building model with second half and validating on first half:\n",
      "Training until validation scores don't improve for 200 rounds\n",
      "[200]\ttraining's rmse: 0.899503\tvalid_1's rmse: 1.50123\n",
      "[400]\ttraining's rmse: 0.849477\tvalid_1's rmse: 1.49692\n",
      "[600]\ttraining's rmse: 0.827617\tvalid_1's rmse: 1.49529\n",
      "[800]\ttraining's rmse: 0.807385\tvalid_1's rmse: 1.49475\n",
      "Early stopping, best iteration is:\n",
      "[746]\ttraining's rmse: 0.813257\tvalid_1's rmse: 1.49424\n"
     ]
    }
   ],
   "source": [
    "X_half_1 = X_train[:int(X_train.shape[0] / 2)]\n",
    "X_half_2 = X_train[int(X_train.shape[0] / 2):]\n",
    "\n",
    "y_half_1 = y_train[:int(X_train.shape[0] / 2)]\n",
    "y_half_2 = y_train[int(X_train.shape[0] / 2):]\n",
    "\n",
    "categorical_features = [\"building_id\", \"site_id\", \"meter\", \"primary_use\", \"hour\", \"weekday\"]\n",
    "\n",
    "d_half_1 = lgb.Dataset(X_half_1, label=y_half_1, categorical_feature=categorical_features, free_raw_data=False)\n",
    "d_half_2 = lgb.Dataset(X_half_2, label=y_half_2, categorical_feature=categorical_features, free_raw_data=False)\n",
    "\n",
    "watchlist_1 = [d_half_1, d_half_2]\n",
    "watchlist_2 = [d_half_2, d_half_1]\n",
    "\n",
    "params = {\n",
    "    \"objective\": \"regression\",\n",
    "    \"boosting\": \"gbdt\",\n",
    "    \"num_leaves\": 40,\n",
    "    \"learning_rate\": 0.05,\n",
    "    \"feature_fraction\": 0.85,\n",
    "    \"reg_lambda\": 2,\n",
    "    \"metric\": \"rmse\"\n",
    "}\n",
    "\n",
    "print(\"Building model with first half and validating on second half:\")\n",
    "model_half_1 = lgb.train(params, train_set=d_half_1, num_boost_round=1000, valid_sets=watchlist_1, verbose_eval=200, early_stopping_rounds=200)\n",
    "\n",
    "print(\"Building model with second half and validating on first half:\")\n",
    "model_half_2 = lgb.train(params, train_set=d_half_2, num_boost_round=1000, valid_sets=watchlist_2, verbose_eval=200, early_stopping_rounds=200)"
   ]
  },
  {
   "cell_type": "markdown",
   "metadata": {},
   "source": [
    "## Feature Importance"
   ]
  },
  {
   "cell_type": "code",
   "execution_count": 36,
   "metadata": {
    "ExecuteTime": {
     "end_time": "2019-12-03T07:05:06.206584Z",
     "start_time": "2019-12-03T07:05:04.993208Z"
    }
   },
   "outputs": [
    {
     "data": {
      "image/png": "[encoded data removed]",
      "text/plain": [
       "<Figure size 1008x504 with 1 Axes>"
      ]
     },
     "metadata": {
      "needs_background": "light"
     },
     "output_type": "display_data"
    }
   ],
   "source": [
    "df_fimp_1 = pd.DataFrame()\n",
    "df_fimp_1[\"feature\"] = X_train.columns.values\n",
    "df_fimp_1[\"importance\"] = model_half_1.feature_importance()\n",
    "df_fimp_1[\"half\"] = 1\n",
    "\n",
    "df_fimp_2 = pd.DataFrame()\n",
    "df_fimp_2[\"feature\"] = X_train.columns.values\n",
    "df_fimp_2[\"importance\"] = model_half_2.feature_importance()\n",
    "df_fimp_2[\"half\"] = 2\n",
    "\n",
    "df_fimp = pd.concat([df_fimp_1, df_fimp_2], axis=0)\n",
    "\n",
    "plt.figure(figsize=(14, 7))\n",
    "sns.barplot(x=\"importance\", y=\"feature\", data=df_fimp.sort_values(by=\"importance\", ascending=False))\n",
    "plt.title(\"LightGBM Feature Importance\")\n",
    "plt.tight_layout()"
   ]
  },
  {
   "cell_type": "code",
   "execution_count": null,
   "metadata": {},
   "outputs": [],
   "source": []
  },
  {
   "cell_type": "code",
   "execution_count": null,
   "metadata": {},
   "outputs": [],
   "source": []
  },
  {
   "cell_type": "code",
   "execution_count": null,
   "metadata": {},
   "outputs": [],
   "source": []
  },
  {
   "cell_type": "code",
   "execution_count": null,
   "metadata": {},
   "outputs": [],
   "source": []
  },
  {
   "cell_type": "code",
   "execution_count": null,
   "metadata": {},
   "outputs": [],
   "source": []
  },
  {
   "cell_type": "code",
   "execution_count": null,
   "metadata": {},
   "outputs": [],
   "source": []
  },
  {
   "cell_type": "code",
   "execution_count": null,
   "metadata": {},
   "outputs": [],
   "source": []
  },
  {
   "cell_type": "code",
   "execution_count": null,
   "metadata": {},
   "outputs": [],
   "source": []
  },
  {
   "cell_type": "code",
   "execution_count": null,
   "metadata": {},
   "outputs": [],
   "source": []
  },
  {
   "cell_type": "code",
   "execution_count": null,
   "metadata": {},
   "outputs": [],
   "source": []
  },
  {
   "cell_type": "code",
   "execution_count": null,
   "metadata": {},
   "outputs": [],
   "source": []
  },
  {
   "cell_type": "code",
   "execution_count": null,
   "metadata": {},
   "outputs": [],
   "source": []
  }
 ],
 "metadata": {
  "kernelspec": {
   "display_name": "Python 3",
   "language": "python",
   "name": "python3"
  },
  "language_info": {
   "codemirror_mode": {
    "name": "ipython",
    "version": 3
   },
   "file_extension": ".py",
   "mimetype": "text/x-python",
   "name": "python",
   "nbconvert_exporter": "python",
   "pygments_lexer": "ipython3",
   "version": "3.7.4"
  },
  "toc": {
   "base_numbering": 1,
   "nav_menu": {},
   "number_sections": true,
   "sideBar": true,
   "skip_h1_title": false,
   "title_cell": "Table of Contents",
   "title_sidebar": "Contents",
   "toc_cell": false,
   "toc_position": {},
   "toc_section_display": true,
   "toc_window_display": false
  }
 },
 "nbformat": 4,
 "nbformat_minor": 2
}
